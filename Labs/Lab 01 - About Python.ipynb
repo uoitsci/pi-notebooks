{
 "cells": [
  {
   "cell_type": "markdown",
   "id": "79d03ccf-aea2-40fa-89fd-fed02776791a",
   "metadata": {},
   "source": [
    "# About Python\n",
    "In this lab we are going to introduce the Python programming language that we are going to use to program our Raspberry Pi projects.\n",
    "\n",
    "# Python programming language\n",
    "Python is a simple to learn yet powerful programming language that was conceived in the late 1980s and nowadays is a widely used programming language backed with a huge community. There are hundreds of modules that can be used for free for almost anything you might need to do. And YES, you can write and run python in the Raspberry Pi, and there are modules that allow us to interact with the GPIO ports, the camera, etc."
   ]
  },
  {
   "cell_type": "markdown",
   "id": "d7c48e85-6de2-4111-a037-5198c1aca82c",
   "metadata": {},
   "source": [
    "## Running Python on the Raspberry Pi\n",
    "\n",
    "Jupyter Notebook is an open-source, web-based tool for creating and sharing documents that include live code, equations, visualizations, and text. It is widely used in data science, machine learning, and academic research due to its powerful features and ease of use.\n",
    "\n",
    "When you run code, the notebook's kernel executes each cell in sequence, retaining any defined variables and states for reuse in later cells. This state is preserved until you restart the kernel, which clears all variables and reloads libraries and dependencies.\n",
    "\n",
    "Jupyter Notebooks autosave periodically to prevent data loss, and you can also save manually by clicking the save icon or pressing `Ctrl + S`."
   ]
  },
  {
   "cell_type": "markdown",
   "id": "97516b78-cd71-4065-a20e-0bf9e3e51f0f",
   "metadata": {},
   "source": [
    "## Python Language Introduction\n",
    "In this part of the lab, we'll experiment with some Python language features, under the assumption that you have previously written programs in C++.  First of all, let's consider variables and values.  Let's try to run the following code:\n",
    "\n",
    "<div class=\"alert alert-block alert-info\">\n",
    "    <b>Note</b>: You can run a code cell by selecting it and pressing <code>Shift + Enter</code> or by clicking the ▶ (play) button on the top left.\n",
    "</div>"
   ]
  },
  {
   "cell_type": "code",
   "execution_count": null,
   "id": "fa09b660-f84b-4564-89ca-37abda0a7248",
   "metadata": {},
   "outputs": [],
   "source": [
    "x = 8\n",
    "print(x)\n",
    "print(x * 2)"
   ]
  },
  {
   "cell_type": "markdown",
   "id": "a950f132-8b96-4580-9a71-4ca629541ebe",
   "metadata": {},
   "source": [
    "Notice that the results of the program were printed after each line?  Now, let's add some other variables to our program:"
   ]
  },
  {
   "cell_type": "code",
   "execution_count": null,
   "id": "473d014c-70a3-420e-a808-a4727d6b50ce",
   "metadata": {},
   "outputs": [],
   "source": [
    "name = \"Raspberry Pi\"\n",
    "length = 14.5\n",
    "width = 7.25"
   ]
  },
  {
   "cell_type": "markdown",
   "id": "f41e5955-619a-4f7a-9304-4ad3cfb7ddee",
   "metadata": {},
   "source": [
    "Represented in our program are three different value types: integer, floating point, and string.  Let's print those values. Run the code below and observe the output:"
   ]
  },
  {
   "cell_type": "code",
   "execution_count": null,
   "id": "ee76e5ab-9b7c-4207-94e8-faab89f29488",
   "metadata": {},
   "outputs": [],
   "source": [
    "print(\"x:\")\n",
    "print(x)\n",
    "print(\"Name:\", name)\n",
    "print(\"width:\", end=\"\")\n",
    "print(width)\n",
    "print(\"length:\" + str(length))"
   ]
  },
  {
   "cell_type": "markdown",
   "id": "444ec056-7284-4de9-888d-97de2cf35120",
   "metadata": {},
   "source": [
    "Notice what happened? In some cases, the `print` function automatically adds spaces, and in other cases, a newline was added. Be mindful of this behaviour when aiming for precise output in Python.<br/>To suppress the spaces, follow the pattern for the length above. To suppress the newline, add the extra `end` parameter on the right side.\n",
    "\n",
    "Now, let's try out conditionals."
   ]
  },
  {
   "cell_type": "code",
   "execution_count": null,
   "id": "667de776-00a5-4d1f-958e-bac1cc523acc",
   "metadata": {},
   "outputs": [],
   "source": [
    "# Experiment with different values of X\n",
    "x = 8\n",
    "\n",
    "if x < 10:\n",
    "    print(\"x is small\")\n",
    "elif x < 20:\n",
    "    print(\"x is medium\")\n",
    "else:\n",
    "    print(\"x is large\")"
   ]
  },
  {
   "cell_type": "markdown",
   "id": "3f1d0f94-325c-48b7-b28d-93c62379787b",
   "metadata": {},
   "source": [
    "Try experimenting with different values for X until you understand how the conditional works.\n",
    "\n",
    "<div class=\"alert alert-block alert-info\">\n",
    "    \n",
    "**Note**: Python uses whitespace to structure code blocks.  In C++, you surround your code block in `{` and `}`, but in Python you _indent_ your code block.  Be sure to be consistent with your spacing or you might confuse Python if code is inside or outside of a block.  Avoid mixing spaces and tabs.\n",
    "    \n",
    "</div>\n",
    "\n",
    "Let's examine a while loop now.  Again, the major difference with C++ is the use of indentation to show what code is inside the loop."
   ]
  },
  {
   "cell_type": "code",
   "execution_count": null,
   "id": "2fced149-c0ba-4642-8bc3-539c7796fc96",
   "metadata": {},
   "outputs": [],
   "source": [
    "x = 8\n",
    "while x > 0:\n",
    "    print(x)\n",
    "    x = x - 1"
   ]
  },
  {
   "cell_type": "markdown",
   "id": "a29a4c3a-a28d-4102-a7ea-199cb66fb037",
   "metadata": {},
   "source": [
    "In Python, for loops work using lists so let's examine those in more detail before we learn the for loop syntax.  A list is merely a collection of elements of the same type surrounded by square brackets (e.g. `[1, 2, 3, 4, 5]`).  We can loop over any list:"
   ]
  },
  {
   "cell_type": "code",
   "execution_count": null,
   "id": "2c75e798-9007-4f33-a3c1-7d8e88ace446",
   "metadata": {},
   "outputs": [],
   "source": [
    "names = [\"Bob\", \"Sally\", \"Kunal\", \"Ahmed\", \"Carla\"]\n",
    "for name in names:\n",
    "    print(name)"
   ]
  },
  {
   "cell_type": "markdown",
   "id": "238d914c-6be7-43ac-9461-38e59455676a",
   "metadata": {},
   "source": [
    "There is a function `range()` that can generate a list, that is very useful in for loops.  You can pass 3 values to range:  the minimum, the maximum, and the step size, and `range()` will generate a list that starts at the minimum value (default 0), proceeds to the next by adding the step size (default 1), until the maximum value is reached.  The maximum value is not included in the resulting list.  Try out `range()` a bit in the Python shell:"
   ]
  },
  {
   "cell_type": "code",
   "execution_count": null,
   "id": "8b9e3eaf-3d41-4923-be8e-75a0918ec793",
   "metadata": {},
   "outputs": [],
   "source": [
    "list(range(10))"
   ]
  },
  {
   "cell_type": "code",
   "execution_count": null,
   "id": "d225c582-0a03-4591-8f5a-3e5a485bc4a9",
   "metadata": {},
   "outputs": [],
   "source": [
    "list(range(5, 10))"
   ]
  },
  {
   "cell_type": "code",
   "execution_count": null,
   "id": "2071611f-76d8-40f2-bcde-25808268e760",
   "metadata": {},
   "outputs": [],
   "source": [
    "list(range(5, 15, 2))"
   ]
  },
  {
   "cell_type": "markdown",
   "id": "c4c52ea9-8c26-4b97-aee6-b675a65760a8",
   "metadata": {},
   "source": [
    "We are finally ready to use a familiar form of for loop:"
   ]
  },
  {
   "cell_type": "code",
   "execution_count": null,
   "id": "ed51eb63-c544-4582-9469-8bc365c59dcc",
   "metadata": {},
   "outputs": [],
   "source": [
    "for val in range(0, 20):\n",
    "    print(val)"
   ]
  },
  {
   "cell_type": "markdown",
   "id": "9b58e854-d689-4f40-8c94-115360d19fc5",
   "metadata": {},
   "source": [
    "There is a lot more to Python, but this should be enough to get us through these labs."
   ]
  }
 ],
 "metadata": {
  "kernelspec": {
   "display_name": "Python 3 (ipykernel)",
   "language": "python",
   "name": "python3"
  },
  "language_info": {
   "codemirror_mode": {
    "name": "ipython",
    "version": 3
   },
   "file_extension": ".py",
   "mimetype": "text/x-python",
   "name": "python",
   "nbconvert_exporter": "python",
   "pygments_lexer": "ipython3",
   "version": "3.13.0"
  }
 },
 "nbformat": 4,
 "nbformat_minor": 5
}
