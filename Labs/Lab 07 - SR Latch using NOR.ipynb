{
 "cells": [
  {
   "cell_type": "markdown",
   "id": "2870729c-e1e3-41e3-9045-db68cd09b9ba",
   "metadata": {},
   "source": [
    "# Basic Memory - Latches\n",
    "\n",
    "In this lab we are going to experiment with the most basic form of memory: the latch.  We'll develop our own latch using basic components on the breadboard."
   ]
  },
  {
   "attachments": {},
   "cell_type": "markdown",
   "id": "12fbcdaf-178f-49d1-b898-bf7e4df0f89d",
   "metadata": {
    "jp-MarkdownHeadingCollapsed": true
   },
   "source": [
    "## NOR Gates Using the 7402\n",
    "\n",
    "The 7402 chip contains 4 NOR gates on a single 14-pin chip, and has the same pinout as the 7408 (AND) and the 7432 (OR).\n",
    "\n",
    "<center>\n",
    "    <figure align=\"center\">\n",
    "        <img src=\"../Assets/Images/7402.svg\" width=\"500\">\n",
    "        <figcaption>\n",
    "            Pinout of the 7402 chip\n",
    "        </figcaption>\n",
    "    </figure>\n",
    "</center>\n",
    "\n",
    "Two NOR gates can be used to create a simple SR latch, when combined as in the following diagram.\n",
    "\n",
    "<center>\n",
    "    <figure align=\"center\">\n",
    "        <img src=\"../Assets/Images/nor_gate_latch.svg\" width=\"300\">\n",
    "        <figcaption>\n",
    "            Wiring for an SR Latch Using NOR Gates\n",
    "        </figcaption>\n",
    "    </figure>\n",
    "</center>\n",
    "\n",
    "To create this circuit, we need the output of each NOR gate to connect to one of the inputs for the other NOR gate (as well as the LED output for observation).  The other input for each NOR gate will be the output of a push button.\n",
    "\n",
    "The completed circuit wiring is shown below.\n",
    "\n",
    "![Wiring for 7404 (NOT gate) Experiment](../Assets/Images/SR_Latch_with_NOR_gates_bb.png)\n"
   ]
  },
  {
   "cell_type": "markdown",
   "id": "dbbcb73d-c01e-4d0b-b5ac-91ecb0bc19ab",
   "metadata": {},
   "source": [
    "## Exercise\n",
    "\n",
    "After finishing the push button and LED version of the circuit, let's try to interface with our circuit using a simple program that stores a bit in our memory storage from the Raspberry Pi (by either setting the S input or the R input, depending on the value to be stored).  The program will then retrieve the value by examining the input bit.  We will send input data through the GPIO16 and GPIO20 pins and receive the circuit's output data from the GPIO21 pin. <br> \n",
    "\n",
    "<div class=\"alert alert-block alert-info\">\n",
    "    <b>Note</b>: The DigitalInputDevice and DigitalOutputDevice classes still include the value property, which can be set to or read as 1 or 0.\n",
    "</div>\n",
    "\n",
    "The completed circuit wiring is shown below.\n",
    "\n",
    "![Wiring for 7404 (NOT gate) Experiment](../Assets/Images/SR_Latch_with_NOR_gates_with_RPi_bb.png)"
   ]
  },
  {
   "cell_type": "code",
   "execution_count": 2,
   "id": "a9108e36-1e0d-484c-9ee9-3b4ac9e9b340",
   "metadata": {},
   "outputs": [
    {
     "ename": "ModuleNotFoundError",
     "evalue": "No module named 'gpiozero'",
     "output_type": "error",
     "traceback": [
      "\u001b[0;31m---------------------------------------------------------------------------\u001b[0m",
      "\u001b[0;31mModuleNotFoundError\u001b[0m                       Traceback (most recent call last)",
      "Cell \u001b[0;32mIn[2], line 2\u001b[0m\n\u001b[1;32m      1\u001b[0m \u001b[38;5;66;03m# Import all the necessary libraries\u001b[39;00m\n\u001b[0;32m----> 2\u001b[0m \u001b[38;5;28;01mfrom\u001b[39;00m \u001b[38;5;21;01mgpiozero\u001b[39;00m \u001b[38;5;28;01mimport\u001b[39;00m DigitalInputDevice, DigitalOutputDevice\n\u001b[1;32m      4\u001b[0m \u001b[38;5;66;03m# Assign pin 16 & 20 as the outputs and 21 as the input.\u001b[39;00m\n\u001b[1;32m      5\u001b[0m A \u001b[38;5;241m=\u001b[39m DigitalOutputDevice(\u001b[38;5;241m16\u001b[39m)\n",
      "\u001b[0;31mModuleNotFoundError\u001b[0m: No module named 'gpiozero'"
     ]
    }
   ],
   "source": [
    "# Import all the necessary libraries\n",
    "from gpiozero import DigitalInputDevice, DigitalOutputDevice\n",
    "\n",
    "# Assign pin 16 & 20 as the outputs and 21 as the input.\n",
    "A = DigitalOutputDevice(16)\n",
    "B = DigitalOutputDevice(20)\n",
    "OUT = DigitalInputDevice(21)\n",
    "\n",
    "value_to_store = 0 # test with both 0 and 1 values\n",
    "print('Storing value: ' + str(value_to_store))\n",
    "\n",
    "value_retrieved = 0 # change to get this from the GPIO pin #22\n",
    "print('Retrieved value: ' + str(value_retrieved))\n",
    "\n",
    "A.close()\n",
    "B.close()\n",
    "OUT.close()"
   ]
  },
  {
   "cell_type": "code",
   "execution_count": null,
   "id": "571269b4-6baa-42d8-914e-6584815b8376",
   "metadata": {},
   "outputs": [],
   "source": []
  }
 ],
 "metadata": {
  "kernelspec": {
   "display_name": "Python 3 (ipykernel)",
   "language": "python",
   "name": "python3"
  },
  "language_info": {
   "codemirror_mode": {
    "name": "ipython",
    "version": 3
   },
   "file_extension": ".py",
   "mimetype": "text/x-python",
   "name": "python",
   "nbconvert_exporter": "python",
   "pygments_lexer": "ipython3",
   "version": "3.12.7"
  }
 },
 "nbformat": 4,
 "nbformat_minor": 5
}
